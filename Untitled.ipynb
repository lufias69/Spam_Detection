{
 "cells": [
  {
   "cell_type": "code",
   "execution_count": 8,
   "metadata": {},
   "outputs": [],
   "source": [
    "import pandas as pd\n",
    "from modulku import praproses as pps, StemNstopW as stm\n",
    "from replace import normalisasi as nrm"
   ]
  },
  {
   "cell_type": "code",
   "execution_count": 16,
   "metadata": {},
   "outputs": [
    {
     "data": {
      "text/html": [
       "<div>\n",
       "<style scoped>\n",
       "    .dataframe tbody tr th:only-of-type {\n",
       "        vertical-align: middle;\n",
       "    }\n",
       "\n",
       "    .dataframe tbody tr th {\n",
       "        vertical-align: top;\n",
       "    }\n",
       "\n",
       "    .dataframe thead th {\n",
       "        text-align: right;\n",
       "    }\n",
       "</style>\n",
       "<table border=\"1\" class=\"dataframe\">\n",
       "  <thead>\n",
       "    <tr style=\"text-align: right;\">\n",
       "      <th></th>\n",
       "      <th>Column1</th>\n",
       "      <th>rand</th>\n",
       "      <th>label</th>\n",
       "      <th>komentar</th>\n",
       "    </tr>\n",
       "  </thead>\n",
       "  <tbody>\n",
       "    <tr>\n",
       "      <th>0</th>\n",
       "      <td>1</td>\n",
       "      <td>244</td>\n",
       "      <td>spam</td>\n",
       "      <td>@nabela_yevi_vie awass dia akun adu domba min ...</td>\n",
       "    </tr>\n",
       "    <tr>\n",
       "      <th>1</th>\n",
       "      <td>4</td>\n",
       "      <td>694</td>\n",
       "      <td>spam</td>\n",
       "      <td>Mãàñtáááp bäNGGééèt kåãk §ètéłãâh åkûü Pâkêë p...</td>\n",
       "    </tr>\n",
       "    <tr>\n",
       "      <th>2</th>\n",
       "      <td>6</td>\n",
       "      <td>955</td>\n",
       "      <td>spam</td>\n",
       "      <td>ĸaĸ aĸυ υdaн cape nyarι мaѕĸer yang aмpυн вυaт...</td>\n",
       "    </tr>\n",
       "    <tr>\n",
       "      <th>3</th>\n",
       "      <td>9</td>\n",
       "      <td>707</td>\n",
       "      <td>spam</td>\n",
       "      <td>Gakkk nyangka bangetttt pemutihhnya luar biasa...</td>\n",
       "    </tr>\n",
       "    <tr>\n",
       "      <th>4</th>\n",
       "      <td>14</td>\n",
       "      <td>959</td>\n",
       "      <td>spam</td>\n",
       "      <td>Ngeriiii banget produk @DUNIAHERBAL.25 , aku j...</td>\n",
       "    </tr>\n",
       "  </tbody>\n",
       "</table>\n",
       "</div>"
      ],
      "text/plain": [
       "   Column1  rand label                                           komentar\n",
       "0        1   244  spam  @nabela_yevi_vie awass dia akun adu domba min ...\n",
       "1        4   694  spam  Mãàñtáááp bäNGGééèt kåãk §ètéłãâh åkûü Pâkêë p...\n",
       "2        6   955  spam  ĸaĸ aĸυ υdaн cape nyarι мaѕĸer yang aмpυн вυaт...\n",
       "3        9   707  spam  Gakkk nyangka bangetttt pemutihhnya luar biasa...\n",
       "4       14   959  spam  Ngeriiii banget produk @DUNIAHERBAL.25 , aku j..."
      ]
     },
     "execution_count": 16,
     "metadata": {},
     "output_type": "execute_result"
    }
   ],
   "source": [
    "data = pd.read_excel(\"komentar/Dataset_Siap_3800_px.xlsx\")\n",
    "komentar = data.komentar.tolist()\n",
    "label = data.label.tolist()\n",
    "data.head()"
   ]
  },
  {
   "cell_type": "code",
   "execution_count": null,
   "metadata": {},
   "outputs": [
    {
     "name": "stdout",
     "output_type": "stream",
     "text": [
      "...................................................................................................100\n",
      "...................................................................................................200\n",
      "...................................................................................................300\n",
      "...................................................."
     ]
    }
   ],
   "source": [
    "data_bersih = list()\n",
    "for ix, i in enumerate(komentar):\n",
    "    i = pps.preprocessing(i)\n",
    "    i = nrm.normalisasi(i)\n",
    "    i = stm.stemmer_kata(i)\n",
    "    i = stm.stop_word(i)\n",
    "    data_bersih.append(i)\n",
    "    if (ix+1)%100==0:\n",
    "        print(ix+1)\n",
    "    else:\n",
    "        print('.', end='')"
   ]
  },
  {
   "cell_type": "code",
   "execution_count": null,
   "metadata": {},
   "outputs": [],
   "source": [
    "dictt = {\n",
    "    \"nomer\":data.Column1.tolist()\n",
    "    'label':label,\n",
    "    'sms':data_bersih,  \n",
    "}\n",
    "df = pd.DataFrame.from_dict(dictt)\n",
    "df.to_excel('sms_clean_norm_+_new_data.xlsx')"
   ]
  },
  {
   "cell_type": "code",
   "execution_count": null,
   "metadata": {},
   "outputs": [],
   "source": []
  }
 ],
 "metadata": {
  "kernelspec": {
   "display_name": "Python 3",
   "language": "python",
   "name": "python3"
  },
  "language_info": {
   "codemirror_mode": {
    "name": "ipython",
    "version": 3
   },
   "file_extension": ".py",
   "mimetype": "text/x-python",
   "name": "python",
   "nbconvert_exporter": "python",
   "pygments_lexer": "ipython3",
   "version": "3.7.3"
  }
 },
 "nbformat": 4,
 "nbformat_minor": 2
}
