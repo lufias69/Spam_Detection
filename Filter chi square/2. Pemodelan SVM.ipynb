{
 "cells": [
  {
   "cell_type": "markdown",
   "metadata": {},
   "source": [
    "   1  : 1.58,\n",
    "   0.1: 2.71,\n",
    "  0.05: 3.84, \n",
    "  0.01: 6.63,\n",
    " 0.005: 7.88, \n",
    " 0.001: 10.83"
   ]
  },
  {
   "cell_type": "code",
   "execution_count": 18,
   "metadata": {},
   "outputs": [
    {
     "data": {
      "text/plain": [
       "1.58"
      ]
     },
     "execution_count": 18,
     "metadata": {},
     "output_type": "execute_result"
    }
   ],
   "source": [
    "# 2.71 - 1.13"
   ]
  },
  {
   "cell_type": "code",
   "execution_count": 5,
   "metadata": {},
   "outputs": [],
   "source": [
    "import pandas as pd\n",
    "import numpy as np\n",
    "from joblib import dump\n",
    "\n",
    "from chi import square as cs"
   ]
  },
  {
   "cell_type": "code",
   "execution_count": 30,
   "metadata": {},
   "outputs": [
    {
     "data": {
      "text/html": [
       "<div>\n",
       "<style scoped>\n",
       "    .dataframe tbody tr th:only-of-type {\n",
       "        vertical-align: middle;\n",
       "    }\n",
       "\n",
       "    .dataframe tbody tr th {\n",
       "        vertical-align: top;\n",
       "    }\n",
       "\n",
       "    .dataframe thead th {\n",
       "        text-align: right;\n",
       "    }\n",
       "</style>\n",
       "<table border=\"1\" class=\"dataframe\">\n",
       "  <thead>\n",
       "    <tr style=\"text-align: right;\">\n",
       "      <th></th>\n",
       "      <th>Unnamed: 0</th>\n",
       "      <th>nomer</th>\n",
       "      <th>label</th>\n",
       "      <th>komentar</th>\n",
       "    </tr>\n",
       "  </thead>\n",
       "  <tbody>\n",
       "    <tr>\n",
       "      <th>0</th>\n",
       "      <td>1668.0</td>\n",
       "      <td>0</td>\n",
       "      <td>non spam</td>\n",
       "      <td>waduh mara ken ae mbak via ni kirim balikpapan...</td>\n",
       "    </tr>\n",
       "    <tr>\n",
       "      <th>1</th>\n",
       "      <td>0.0</td>\n",
       "      <td>1</td>\n",
       "      <td>spam</td>\n",
       "      <td>awass akun adu domba min tu org suka nyinyirin...</td>\n",
       "    </tr>\n",
       "    <tr>\n",
       "      <th>2</th>\n",
       "      <td>1669.0</td>\n",
       "      <td>2</td>\n",
       "      <td>non spam</td>\n",
       "      <td>begini kalo ga biasa lipsing sekali lipsing ku...</td>\n",
       "    </tr>\n",
       "    <tr>\n",
       "      <th>3</th>\n",
       "      <td>1670.0</td>\n",
       "      <td>3</td>\n",
       "      <td>non spam</td>\n",
       "      <td>nitijen mha bebar bkin mlu 2 ajh kliaan apa sd...</td>\n",
       "    </tr>\n",
       "    <tr>\n",
       "      <th>4</th>\n",
       "      <td>1.0</td>\n",
       "      <td>4</td>\n",
       "      <td>spam</td>\n",
       "      <td>maantaap banggeet kaak eteaah akuu pakee gemuk...</td>\n",
       "    </tr>\n",
       "  </tbody>\n",
       "</table>\n",
       "</div>"
      ],
      "text/plain": [
       "   Unnamed: 0  nomer     label  \\\n",
       "0      1668.0      0  non spam   \n",
       "1         0.0      1      spam   \n",
       "2      1669.0      2  non spam   \n",
       "3      1670.0      3  non spam   \n",
       "4         1.0      4      spam   \n",
       "\n",
       "                                            komentar  \n",
       "0  waduh mara ken ae mbak via ni kirim balikpapan...  \n",
       "1  awass akun adu domba min tu org suka nyinyirin...  \n",
       "2  begini kalo ga biasa lipsing sekali lipsing ku...  \n",
       "3  nitijen mha bebar bkin mlu 2 ajh kliaan apa sd...  \n",
       "4  maantaap banggeet kaak eteaah akuu pakee gemuk...  "
      ]
     },
     "execution_count": 30,
     "metadata": {},
     "output_type": "execute_result"
    }
   ],
   "source": [
    "data = pd.read_excel(\"komentar/data_clean.xlsx\")\n",
    "komentar = data.komentar.tolist()\n",
    "label = np.array(data.label.tolist())\n",
    "y = label\n",
    "data.head()"
   ]
  },
  {
   "cell_type": "markdown",
   "metadata": {},
   "source": [
    "# Ekstraksi dan Seleksi Fitur"
   ]
  },
  {
   "cell_type": "code",
   "execution_count": 31,
   "metadata": {},
   "outputs": [],
   "source": [
    "sf = cs.ChiSquare(alpha = 0.1)\n",
    "sf.find_best_features(komentar, label, fitur = None)"
   ]
  },
  {
   "cell_type": "code",
   "execution_count": 32,
   "metadata": {},
   "outputs": [
    {
     "name": "stdout",
     "output_type": "stream",
     "text": [
      "jumlah fitur terbaik: 2442 dari 14058 fitur\n"
     ]
    }
   ],
   "source": [
    "print(\"jumlah fitur terbaik:\",len(sf.best_features),\"dari\",len(sf.fitur), \"fitur\")\n",
    "best_features = sf.best_features"
   ]
  },
  {
   "cell_type": "markdown",
   "metadata": {},
   "source": [
    "# Pemodelan"
   ]
  },
  {
   "cell_type": "markdown",
   "metadata": {},
   "source": [
    "## Pemodelan TF-IDF"
   ]
  },
  {
   "cell_type": "code",
   "execution_count": 33,
   "metadata": {},
   "outputs": [
    {
     "name": "stdout",
     "output_type": "stream",
     "text": [
      "(4757, 2442)\n"
     ]
    }
   ],
   "source": [
    "from sklearn.feature_extraction.text import TfidfVectorizer\n",
    "\n",
    "vectorizer = TfidfVectorizer(vocabulary = best_features)#\n",
    "X = vectorizer.fit_transform(komentar)\n",
    "save = vectorizer.fit(komentar)\n",
    "dump(save, \"model/tfidf.w\")\n",
    "# print(vectorizer.get_feature_names())\n",
    "fitur = vectorizer.get_feature_names()\n",
    "print(X.shape)"
   ]
  },
  {
   "cell_type": "markdown",
   "metadata": {},
   "source": [
    "## Pemodelan SVM"
   ]
  },
  {
   "cell_type": "code",
   "execution_count": 34,
   "metadata": {},
   "outputs": [],
   "source": [
    "from sklearn.svm import SVC\n",
    "clf = SVC()#gamma='auto'"
   ]
  },
  {
   "cell_type": "markdown",
   "metadata": {},
   "source": [
    "# Pemodelan dan Validasi Model"
   ]
  },
  {
   "cell_type": "code",
   "execution_count": 35,
   "metadata": {},
   "outputs": [
    {
     "name": "stdout",
     "output_type": "stream",
     "text": [
      "[0.1 0.2 0.3 0.4 0.5 0.6 0.7 0.8 0.9 1. ]\n",
      ".........."
     ]
    },
    {
     "data": {
      "text/html": [
       "<div>\n",
       "<style scoped>\n",
       "    .dataframe tbody tr th:only-of-type {\n",
       "        vertical-align: middle;\n",
       "    }\n",
       "\n",
       "    .dataframe tbody tr th {\n",
       "        vertical-align: top;\n",
       "    }\n",
       "\n",
       "    .dataframe thead th {\n",
       "        text-align: right;\n",
       "    }\n",
       "</style>\n",
       "<table border=\"1\" class=\"dataframe\">\n",
       "  <thead>\n",
       "    <tr style=\"text-align: right;\">\n",
       "      <th></th>\n",
       "      <th>gamma</th>\n",
       "      <th>akurasi</th>\n",
       "    </tr>\n",
       "  </thead>\n",
       "  <tbody>\n",
       "    <tr>\n",
       "      <th>0</th>\n",
       "      <td>0.1</td>\n",
       "      <td>0.931914</td>\n",
       "    </tr>\n",
       "    <tr>\n",
       "      <th>1</th>\n",
       "      <td>0.2</td>\n",
       "      <td>0.937378</td>\n",
       "    </tr>\n",
       "    <tr>\n",
       "      <th>2</th>\n",
       "      <td>0.3</td>\n",
       "      <td>0.938428</td>\n",
       "    </tr>\n",
       "    <tr>\n",
       "      <th>3</th>\n",
       "      <td>0.4</td>\n",
       "      <td>0.938428</td>\n",
       "    </tr>\n",
       "    <tr>\n",
       "      <th>4</th>\n",
       "      <td>0.5</td>\n",
       "      <td>0.939058</td>\n",
       "    </tr>\n",
       "    <tr>\n",
       "      <th>5</th>\n",
       "      <td>0.6</td>\n",
       "      <td>0.940108</td>\n",
       "    </tr>\n",
       "    <tr>\n",
       "      <th>6</th>\n",
       "      <td>0.7</td>\n",
       "      <td>0.940739</td>\n",
       "    </tr>\n",
       "    <tr>\n",
       "      <th>7</th>\n",
       "      <td>0.8</td>\n",
       "      <td>0.940949</td>\n",
       "    </tr>\n",
       "    <tr>\n",
       "      <th>8</th>\n",
       "      <td>0.9</td>\n",
       "      <td>0.940738</td>\n",
       "    </tr>\n",
       "    <tr>\n",
       "      <th>9</th>\n",
       "      <td>1.0</td>\n",
       "      <td>0.940107</td>\n",
       "    </tr>\n",
       "  </tbody>\n",
       "</table>\n",
       "</div>"
      ],
      "text/plain": [
       "   gamma   akurasi\n",
       "0    0.1  0.931914\n",
       "1    0.2  0.937378\n",
       "2    0.3  0.938428\n",
       "3    0.4  0.938428\n",
       "4    0.5  0.939058\n",
       "5    0.6  0.940108\n",
       "6    0.7  0.940739\n",
       "7    0.8  0.940949\n",
       "8    0.9  0.940738\n",
       "9    1.0  0.940107"
      ]
     },
     "execution_count": 35,
     "metadata": {},
     "output_type": "execute_result"
    }
   ],
   "source": [
    "from sklearn.model_selection import StratifiedKFold\n",
    "from sklearn.metrics import accuracy_score\n",
    "\n",
    "skf = StratifiedKFold(n_splits=10)\n",
    "skf.get_n_splits(X, y)\n",
    "\n",
    "start = 0.1\n",
    "stop = 1\n",
    "step = start\n",
    "alpha_list = np.arange(start,stop+step,step)\n",
    "print(alpha_list)\n",
    "akurasi = list()\n",
    "\n",
    "ix = 0 #just counter\n",
    "for alpha in alpha_list:\n",
    "    clf.set_params(gamma=alpha)\n",
    "    temp_akurasi = list()\n",
    "    for train_index, test_index in skf.split(X, y):\n",
    "    #     print(\"TRAIN:\", train_index, \"TEST:\", test_index)\n",
    "        X_train, X_test = X[train_index], X[test_index]\n",
    "        y_train, y_test = y[train_index], y[test_index]\n",
    "        \n",
    "        ##Trainin Model menggunakan sebagian data latih (K-fold)\n",
    "        clf.fit(X_train,y_train)\n",
    "        \n",
    "        #prediksi menggunakan data uji dari k-fold\n",
    "        y_pred = clf.predict(X_test)\n",
    "        temp_akurasi.append(accuracy_score(y_test, y_pred))\n",
    "    rerata_akurasi = sum(temp_akurasi)/len(temp_akurasi)\n",
    "    akurasi.append(rerata_akurasi)\n",
    "    ix +=1\n",
    "    if ix%100 !=0:\n",
    "        print(\".\", end=\"\")\n",
    "    else:\n",
    "#         print(alpha, ' | ', rerata_akurasi)\n",
    "        print(\"\")\n",
    "\n",
    "        pass\n",
    "\n",
    "ditt = {\n",
    "    \"gamma\":alpha_list,\n",
    "    \"akurasi\":akurasi\n",
    "}\n",
    "index = akurasi.index(max(akurasi))\n",
    "acc = pd.DataFrame.from_dict(ditt)\n",
    "acc"
   ]
  },
  {
   "cell_type": "code",
   "execution_count": 36,
   "metadata": {},
   "outputs": [
    {
     "name": "stdout",
     "output_type": "stream",
     "text": [
      "0.8\n",
      "0.9409486266535744\n"
     ]
    }
   ],
   "source": [
    "print(alpha_list[index])\n",
    "print(akurasi[index])"
   ]
  },
  {
   "cell_type": "code",
   "execution_count": 27,
   "metadata": {},
   "outputs": [
    {
     "name": "stdout",
     "output_type": "stream",
     "text": [
      "0.7000000000000001\n",
      "0.9357948280003399\n"
     ]
    }
   ],
   "source": [
    "print(alpha_list[index])\n",
    "print(akurasi[index])"
   ]
  },
  {
   "cell_type": "markdown",
   "metadata": {},
   "source": [
    "# Menyimpan Model"
   ]
  },
  {
   "cell_type": "code",
   "execution_count": 37,
   "metadata": {},
   "outputs": [
    {
     "data": {
      "text/plain": [
       "['model/svm.m']"
      ]
     },
     "execution_count": 37,
     "metadata": {},
     "output_type": "execute_result"
    }
   ],
   "source": [
    "clf.set_params(gamma=alpha_list[index])\n",
    "\n",
    "#Trainin Model menggunakan seluruh data latih\n",
    "clf.fit(X, y)\n",
    "dump(clf, \"model/svm.m\")"
   ]
  },
  {
   "cell_type": "code",
   "execution_count": null,
   "metadata": {},
   "outputs": [],
   "source": []
  },
  {
   "cell_type": "code",
   "execution_count": null,
   "metadata": {},
   "outputs": [],
   "source": []
  },
  {
   "cell_type": "code",
   "execution_count": null,
   "metadata": {},
   "outputs": [],
   "source": []
  }
 ],
 "metadata": {
  "kernelspec": {
   "display_name": "Python 3",
   "language": "python",
   "name": "python3"
  },
  "language_info": {
   "codemirror_mode": {
    "name": "ipython",
    "version": 3
   },
   "file_extension": ".py",
   "mimetype": "text/x-python",
   "name": "python",
   "nbconvert_exporter": "python",
   "pygments_lexer": "ipython3",
   "version": "3.7.3"
  }
 },
 "nbformat": 4,
 "nbformat_minor": 2
}
